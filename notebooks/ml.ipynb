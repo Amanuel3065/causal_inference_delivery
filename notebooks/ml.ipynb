{
 "cells": [
  {
   "cell_type": "code",
   "execution_count": null,
   "metadata": {},
   "outputs": [],
   "source": [
    "# importing important modules\n",
    "from sklearn.model_selection import train_test_split\n",
    "from sklearn. preprocessing import StandardScaler\n",
    "from sklearn. decomposition import PCA\n",
    "from sklearn.pipeline import Pipeline\n",
    "from sklearn.linear_model import LogisticRegression\n",
    "from sklearn.tree import DecisionTreeClassifier\n",
    "from sklearn.ensemble import RandomForestClassifier\n",
    "from sklearn.model_selection import GridSearchCV\n",
    "import pandas as pd\n",
    "import numpy as np"
   ]
  },
  {
   "cell_type": "code",
   "execution_count": 76,
   "metadata": {},
   "outputs": [
    {
     "data": {
      "text/html": [
       "<div>\n",
       "<style scoped>\n",
       "    .dataframe tbody tr th:only-of-type {\n",
       "        vertical-align: middle;\n",
       "    }\n",
       "\n",
       "    .dataframe tbody tr th {\n",
       "        vertical-align: top;\n",
       "    }\n",
       "\n",
       "    .dataframe thead th {\n",
       "        text-align: right;\n",
       "    }\n",
       "</style>\n",
       "<table border=\"1\" class=\"dataframe\">\n",
       "  <thead>\n",
       "    <tr style=\"text-align: right;\">\n",
       "      <th></th>\n",
       "      <th>Trip ID</th>\n",
       "      <th>Trip Origin</th>\n",
       "      <th>Trip Destination</th>\n",
       "      <th>Trip Start Time</th>\n",
       "      <th>Trip End Time</th>\n",
       "      <th>driver_id</th>\n",
       "      <th>driver_action</th>\n",
       "      <th>lat</th>\n",
       "      <th>lng</th>\n",
       "      <th>completion_minutes</th>\n",
       "      <th>status</th>\n",
       "      <th>Distance</th>\n",
       "    </tr>\n",
       "  </thead>\n",
       "  <tbody>\n",
       "    <tr>\n",
       "      <th>0</th>\n",
       "      <td>-1.951356</td>\n",
       "      <td>1.162884</td>\n",
       "      <td>-1.127166</td>\n",
       "      <td>-1.972742</td>\n",
       "      <td>-1.99664</td>\n",
       "      <td>0.431229</td>\n",
       "      <td>8.197324</td>\n",
       "      <td>-0.000862</td>\n",
       "      <td>-0.000862</td>\n",
       "      <td>-0.432759</td>\n",
       "      <td>15.554280</td>\n",
       "      <td>-1.052894</td>\n",
       "    </tr>\n",
       "    <tr>\n",
       "      <th>1</th>\n",
       "      <td>-1.951356</td>\n",
       "      <td>1.162884</td>\n",
       "      <td>-1.127166</td>\n",
       "      <td>-1.972742</td>\n",
       "      <td>-1.99664</td>\n",
       "      <td>0.420804</td>\n",
       "      <td>-0.121991</td>\n",
       "      <td>-0.000862</td>\n",
       "      <td>-0.000862</td>\n",
       "      <td>-0.432759</td>\n",
       "      <td>-0.064291</td>\n",
       "      <td>-0.246701</td>\n",
       "    </tr>\n",
       "    <tr>\n",
       "      <th>2</th>\n",
       "      <td>-1.951356</td>\n",
       "      <td>1.162884</td>\n",
       "      <td>-1.127166</td>\n",
       "      <td>-1.972742</td>\n",
       "      <td>-1.99664</td>\n",
       "      <td>0.431316</td>\n",
       "      <td>-0.121991</td>\n",
       "      <td>-0.000862</td>\n",
       "      <td>-0.000862</td>\n",
       "      <td>-0.432759</td>\n",
       "      <td>-0.064291</td>\n",
       "      <td>-0.966348</td>\n",
       "    </tr>\n",
       "    <tr>\n",
       "      <th>3</th>\n",
       "      <td>-1.951356</td>\n",
       "      <td>1.162884</td>\n",
       "      <td>-1.127166</td>\n",
       "      <td>-1.972742</td>\n",
       "      <td>-1.99664</td>\n",
       "      <td>0.418676</td>\n",
       "      <td>-0.121991</td>\n",
       "      <td>-0.000862</td>\n",
       "      <td>-0.000862</td>\n",
       "      <td>-0.432759</td>\n",
       "      <td>-0.064291</td>\n",
       "      <td>-1.054776</td>\n",
       "    </tr>\n",
       "    <tr>\n",
       "      <th>4</th>\n",
       "      <td>-1.951356</td>\n",
       "      <td>1.162884</td>\n",
       "      <td>-1.127166</td>\n",
       "      <td>-1.972742</td>\n",
       "      <td>-1.99664</td>\n",
       "      <td>-2.703749</td>\n",
       "      <td>-0.121991</td>\n",
       "      <td>-0.000862</td>\n",
       "      <td>-0.000862</td>\n",
       "      <td>-0.432759</td>\n",
       "      <td>-0.064291</td>\n",
       "      <td>-0.180851</td>\n",
       "    </tr>\n",
       "  </tbody>\n",
       "</table>\n",
       "</div>"
      ],
      "text/plain": [
       "    Trip ID  Trip Origin  Trip Destination  Trip Start Time  Trip End Time  \\\n",
       "0 -1.951356     1.162884         -1.127166        -1.972742       -1.99664   \n",
       "1 -1.951356     1.162884         -1.127166        -1.972742       -1.99664   \n",
       "2 -1.951356     1.162884         -1.127166        -1.972742       -1.99664   \n",
       "3 -1.951356     1.162884         -1.127166        -1.972742       -1.99664   \n",
       "4 -1.951356     1.162884         -1.127166        -1.972742       -1.99664   \n",
       "\n",
       "   driver_id  driver_action       lat       lng  completion_minutes  \\\n",
       "0   0.431229       8.197324 -0.000862 -0.000862           -0.432759   \n",
       "1   0.420804      -0.121991 -0.000862 -0.000862           -0.432759   \n",
       "2   0.431316      -0.121991 -0.000862 -0.000862           -0.432759   \n",
       "3   0.418676      -0.121991 -0.000862 -0.000862           -0.432759   \n",
       "4  -2.703749      -0.121991 -0.000862 -0.000862           -0.432759   \n",
       "\n",
       "      status  Distance  \n",
       "0  15.554280 -1.052894  \n",
       "1  -0.064291 -0.246701  \n",
       "2  -0.064291 -0.966348  \n",
       "3  -0.064291 -1.054776  \n",
       "4  -0.064291 -0.180851  "
      ]
     },
     "execution_count": 76,
     "metadata": {},
     "output_type": "execute_result"
    }
   ],
   "source": [
    "# Load dataset\n",
    "df= pd.read_csv('../data/modelData.csv')\n",
    "df.head(5)"
   ]
  },
  {
   "cell_type": "code",
   "execution_count": 77,
   "metadata": {},
   "outputs": [
    {
     "data": {
      "text/plain": [
       "(12,)"
      ]
     },
     "execution_count": 77,
     "metadata": {},
     "output_type": "execute_result"
    }
   ],
   "source": [
    "df.columns.shape"
   ]
  },
  {
   "cell_type": "code",
   "execution_count": 78,
   "metadata": {},
   "outputs": [
    {
     "data": {
      "text/html": [
       "<div>\n",
       "<style scoped>\n",
       "    .dataframe tbody tr th:only-of-type {\n",
       "        vertical-align: middle;\n",
       "    }\n",
       "\n",
       "    .dataframe tbody tr th {\n",
       "        vertical-align: top;\n",
       "    }\n",
       "\n",
       "    .dataframe thead th {\n",
       "        text-align: right;\n",
       "    }\n",
       "</style>\n",
       "<table border=\"1\" class=\"dataframe\">\n",
       "  <thead>\n",
       "    <tr style=\"text-align: right;\">\n",
       "      <th></th>\n",
       "      <th>Trip ID</th>\n",
       "      <th>Trip Origin</th>\n",
       "      <th>Trip Destination</th>\n",
       "      <th>Trip Start Time</th>\n",
       "      <th>Trip End Time</th>\n",
       "      <th>driver_id</th>\n",
       "      <th>driver_action</th>\n",
       "      <th>lat</th>\n",
       "      <th>lng</th>\n",
       "      <th>completion_minutes</th>\n",
       "      <th>status</th>\n",
       "      <th>Distance</th>\n",
       "    </tr>\n",
       "  </thead>\n",
       "  <tbody>\n",
       "    <tr>\n",
       "      <th>0</th>\n",
       "      <td>-1.951356</td>\n",
       "      <td>1.162884</td>\n",
       "      <td>-1.127166</td>\n",
       "      <td>-1.972742</td>\n",
       "      <td>-1.99664</td>\n",
       "      <td>0.431229</td>\n",
       "      <td>8.197324</td>\n",
       "      <td>-0.000862</td>\n",
       "      <td>-0.000862</td>\n",
       "      <td>-0.432759</td>\n",
       "      <td>15.554280</td>\n",
       "      <td>-1.052894</td>\n",
       "    </tr>\n",
       "    <tr>\n",
       "      <th>1</th>\n",
       "      <td>-1.951356</td>\n",
       "      <td>1.162884</td>\n",
       "      <td>-1.127166</td>\n",
       "      <td>-1.972742</td>\n",
       "      <td>-1.99664</td>\n",
       "      <td>0.420804</td>\n",
       "      <td>-0.121991</td>\n",
       "      <td>-0.000862</td>\n",
       "      <td>-0.000862</td>\n",
       "      <td>-0.432759</td>\n",
       "      <td>-0.064291</td>\n",
       "      <td>-0.246701</td>\n",
       "    </tr>\n",
       "    <tr>\n",
       "      <th>2</th>\n",
       "      <td>-1.951356</td>\n",
       "      <td>1.162884</td>\n",
       "      <td>-1.127166</td>\n",
       "      <td>-1.972742</td>\n",
       "      <td>-1.99664</td>\n",
       "      <td>0.431316</td>\n",
       "      <td>-0.121991</td>\n",
       "      <td>-0.000862</td>\n",
       "      <td>-0.000862</td>\n",
       "      <td>-0.432759</td>\n",
       "      <td>-0.064291</td>\n",
       "      <td>-0.966348</td>\n",
       "    </tr>\n",
       "    <tr>\n",
       "      <th>3</th>\n",
       "      <td>-1.951356</td>\n",
       "      <td>1.162884</td>\n",
       "      <td>-1.127166</td>\n",
       "      <td>-1.972742</td>\n",
       "      <td>-1.99664</td>\n",
       "      <td>0.418676</td>\n",
       "      <td>-0.121991</td>\n",
       "      <td>-0.000862</td>\n",
       "      <td>-0.000862</td>\n",
       "      <td>-0.432759</td>\n",
       "      <td>-0.064291</td>\n",
       "      <td>-1.054776</td>\n",
       "    </tr>\n",
       "    <tr>\n",
       "      <th>4</th>\n",
       "      <td>-1.951356</td>\n",
       "      <td>1.162884</td>\n",
       "      <td>-1.127166</td>\n",
       "      <td>-1.972742</td>\n",
       "      <td>-1.99664</td>\n",
       "      <td>-2.703749</td>\n",
       "      <td>-0.121991</td>\n",
       "      <td>-0.000862</td>\n",
       "      <td>-0.000862</td>\n",
       "      <td>-0.432759</td>\n",
       "      <td>-0.064291</td>\n",
       "      <td>-0.180851</td>\n",
       "    </tr>\n",
       "  </tbody>\n",
       "</table>\n",
       "</div>"
      ],
      "text/plain": [
       "    Trip ID  Trip Origin  Trip Destination  Trip Start Time  Trip End Time  \\\n",
       "0 -1.951356     1.162884         -1.127166        -1.972742       -1.99664   \n",
       "1 -1.951356     1.162884         -1.127166        -1.972742       -1.99664   \n",
       "2 -1.951356     1.162884         -1.127166        -1.972742       -1.99664   \n",
       "3 -1.951356     1.162884         -1.127166        -1.972742       -1.99664   \n",
       "4 -1.951356     1.162884         -1.127166        -1.972742       -1.99664   \n",
       "\n",
       "   driver_id  driver_action       lat       lng  completion_minutes  \\\n",
       "0   0.431229       8.197324 -0.000862 -0.000862           -0.432759   \n",
       "1   0.420804      -0.121991 -0.000862 -0.000862           -0.432759   \n",
       "2   0.431316      -0.121991 -0.000862 -0.000862           -0.432759   \n",
       "3   0.418676      -0.121991 -0.000862 -0.000862           -0.432759   \n",
       "4  -2.703749      -0.121991 -0.000862 -0.000862           -0.432759   \n",
       "\n",
       "      status  Distance  \n",
       "0  15.554280 -1.052894  \n",
       "1  -0.064291 -0.246701  \n",
       "2  -0.064291 -0.966348  \n",
       "3  -0.064291 -1.054776  \n",
       "4  -0.064291 -0.180851  "
      ]
     },
     "execution_count": 78,
     "metadata": {},
     "output_type": "execute_result"
    }
   ],
   "source": [
    "df.head()"
   ]
  },
  {
   "cell_type": "code",
   "execution_count": 89,
   "metadata": {},
   "outputs": [],
   "source": [
    "# Features from Casual Graph\n",
    "casual_features = [\n",
    " 'Trip Start Time',\n",
    " 'Trip End Time',\n",
    "]"
   ]
  },
  {
   "cell_type": "code",
   "execution_count": 80,
   "metadata": {},
   "outputs": [
    {
     "name": "stdout",
     "output_type": "stream",
     "text": [
      "X shape (1347078, 11)\n",
      "y shape (1347078,)\n",
      "X_train shape (1347073, 11)\n",
      "X_test shape (5, 11)\n",
      "y_train shape (1347073,)\n",
      "y_test shape (5,)\n"
     ]
    }
   ],
   "source": [
    "X= df.iloc[:,0:11]\n",
    "y= df['status']\n",
    "\n",
    "print('X shape',X.shape)\n",
    "print('y shape',y.shape)\n",
    "\n",
    "# train_test_split\n",
    "X_train, X_test, y_train, y_test = train_test_split(X,y, test_size=5, random_state= 7)\n",
    "\n",
    "print('X_train shape', X_train.shape)\n",
    "print('X_test shape', X_test.shape)\n",
    "print('y_train shape', y_train.shape)\n",
    "print('y_test shape', y_test.shape)"
   ]
  },
  {
   "cell_type": "code",
   "execution_count": 81,
   "metadata": {},
   "outputs": [],
   "source": [
    "# Pipeline Logistic Regression: \n",
    "\n",
    "pipeline_lr = Pipeline([\n",
    "    ('scaler1',StandardScaler()),\n",
    "    ('pca1', PCA(n_components=2)),\n",
    "    ('lr_classifier', LogisticRegression(random_state=0))\n",
    "])"
   ]
  },
  {
   "cell_type": "code",
   "execution_count": null,
   "metadata": {},
   "outputs": [],
   "source": [
    "from sklearn.metrics import f1_score,confusion_matrix\n",
    "import seaborn as sns\n",
    "cm_2 = confusion_matrix(y_test,pipeline_lr.predict(X_test))\n",
    "sns.heatmap(cm_2,annot=True,fmt=\"d\")"
   ]
  },
  {
   "cell_type": "code",
   "execution_count": 83,
   "metadata": {},
   "outputs": [],
   "source": [
    "# Pipeline Decision Tree Classifier:\n",
    "\n",
    "pipeline_dtc= Pipeline([\n",
    "    ('scaler2', StandardScaler()),\n",
    "    ('pca2', PCA(n_components=2)),\n",
    "    ('dt_classifier', DecisionTreeClassifier())\n",
    "])\n"
   ]
  },
  {
   "cell_type": "code",
   "execution_count": 84,
   "metadata": {},
   "outputs": [],
   "source": [
    "pipeline_rfc = Pipeline([\n",
    "    ('scaler3', StandardScaler()),\n",
    "    ('pca2', PCA(n_components=3)),\n",
    "    ('rf_classifier', RandomForestClassifier())\n",
    "])"
   ]
  },
  {
   "cell_type": "code",
   "execution_count": 85,
   "metadata": {},
   "outputs": [],
   "source": [
    "# Make the list of pipeline: \n",
    "\n",
    "pipeline = [pipeline_lr,pipeline_dtc,pipeline_rfc]\n",
    "\n",
    "best_accuracy = 0.0\n",
    "best_classifier= 0\n",
    "best_pipeline = \"\""
   ]
  },
  {
   "cell_type": "code",
   "execution_count": null,
   "metadata": {},
   "outputs": [],
   "source": [
    "# Dictionary of pipeline and classifier types for ease of reference:\n",
    "\n",
    "pipe_dict = { 0: 'Logistic Regression', 1: 'Decision Tree', 2:'RandomForest'}\n",
    "\n",
    "# fit the pipleline \n",
    "for pipe in pipeline:\n",
    "    pipe.fit(X_train, y_train)\n"
   ]
  },
  {
   "cell_type": "code",
   "execution_count": null,
   "metadata": {},
   "outputs": [],
   "source": [
    "for i, model in enumerate(pipeline):\n",
    "    print('{} Test Accuracy: {}'.format(pipe_dict[i],model.score(X_test, y_test)))"
   ]
  },
  {
   "cell_type": "code",
   "execution_count": 90,
   "metadata": {},
   "outputs": [],
   "source": [
    "causality_df = df[casual_features]"
   ]
  },
  {
   "cell_type": "code",
   "execution_count": 92,
   "metadata": {},
   "outputs": [
    {
     "name": "stdout",
     "output_type": "stream",
     "text": [
      "X shape (1347078, 2)\n",
      "y shape (1347078,)\n",
      "X_train shape (1347058, 2)\n",
      "X_test shape (20, 2)\n",
      "y_train shape (1347058,)\n",
      "y_test shape (20,)\n"
     ]
    }
   ],
   "source": [
    "X= causality_df.iloc[:,:]\n",
    "y= df['status']\n",
    "\n",
    "print('X shape',X.shape)\n",
    "print('y shape',y.shape)\n",
    "\n",
    "# train_test_split\n",
    "X_train, X_test, y_train, y_test = train_test_split(X,y, test_size=20, random_state= 30)\n",
    "\n",
    "print('X_train shape', X_train.shape)\n",
    "print('X_test shape', X_test.shape)\n",
    "print('y_train shape', y_train.shape)\n",
    "print('y_test shape', y_test.shape)"
   ]
  },
  {
   "cell_type": "code",
   "execution_count": 93,
   "metadata": {},
   "outputs": [],
   "source": [
    "pipeline_dtc= Pipeline([\n",
    "    ('scaler2', StandardScaler()),\n",
    "    ('pca2', PCA(n_components=2)),\n",
    "    ('dt_classifier', DecisionTreeClassifier())\n",
    "])"
   ]
  },
  {
   "cell_type": "code",
   "execution_count": 94,
   "metadata": {},
   "outputs": [],
   "source": [
    "pipeline_rfc = Pipeline([\n",
    "    ('scaler3', StandardScaler()),\n",
    "    ('pca2', PCA(n_components=3)),\n",
    "    ('rf_classifier', RandomForestClassifier())\n",
    "])"
   ]
  },
  {
   "cell_type": "code",
   "execution_count": 95,
   "metadata": {},
   "outputs": [],
   "source": [
    "pipeline_lr = Pipeline([\n",
    "    ('scaler1',StandardScaler()),\n",
    "    ('pca1', PCA(n_components=2)),\n",
    "    ('lr_classifier', LogisticRegression(random_state=0))\n",
    "])"
   ]
  },
  {
   "cell_type": "code",
   "execution_count": 96,
   "metadata": {},
   "outputs": [],
   "source": [
    "# Make the list of pipeline: \n",
    "\n",
    "pipeline = [pipeline_lr,pipeline_dtc,pipeline_rfc]\n",
    "\n",
    "best_accuracy = 0.0\n",
    "best_classifier= 0\n",
    "best_pipeline = \"\""
   ]
  },
  {
   "cell_type": "code",
   "execution_count": 97,
   "metadata": {},
   "outputs": [
    {
     "ename": "ValueError",
     "evalue": "Unknown label type: 'continuous'",
     "output_type": "error",
     "traceback": [
      "\u001b[0;31m---------------------------------------------------------------------------\u001b[0m",
      "\u001b[0;31mValueError\u001b[0m                                Traceback (most recent call last)",
      "Cell \u001b[0;32mIn [97], line 5\u001b[0m\n\u001b[1;32m      3\u001b[0m \u001b[39m# fit the pipleline \u001b[39;00m\n\u001b[1;32m      4\u001b[0m \u001b[39mfor\u001b[39;00m pipe \u001b[39min\u001b[39;00m pipeline:\n\u001b[0;32m----> 5\u001b[0m     pipe\u001b[39m.\u001b[39mfit(X_train, y_train)\n",
      "File \u001b[0;32m~/.local/lib/python3.10/site-packages/sklearn/pipeline.py:382\u001b[0m, in \u001b[0;36mPipeline.fit\u001b[0;34m(self, X, y, **fit_params)\u001b[0m\n\u001b[1;32m    380\u001b[0m     \u001b[39mif\u001b[39;00m \u001b[39mself\u001b[39m\u001b[39m.\u001b[39m_final_estimator \u001b[39m!=\u001b[39m \u001b[39m\"\u001b[39m\u001b[39mpassthrough\u001b[39m\u001b[39m\"\u001b[39m:\n\u001b[1;32m    381\u001b[0m         fit_params_last_step \u001b[39m=\u001b[39m fit_params_steps[\u001b[39mself\u001b[39m\u001b[39m.\u001b[39msteps[\u001b[39m-\u001b[39m\u001b[39m1\u001b[39m][\u001b[39m0\u001b[39m]]\n\u001b[0;32m--> 382\u001b[0m         \u001b[39mself\u001b[39;49m\u001b[39m.\u001b[39;49m_final_estimator\u001b[39m.\u001b[39;49mfit(Xt, y, \u001b[39m*\u001b[39;49m\u001b[39m*\u001b[39;49mfit_params_last_step)\n\u001b[1;32m    384\u001b[0m \u001b[39mreturn\u001b[39;00m \u001b[39mself\u001b[39m\n",
      "File \u001b[0;32m~/.local/lib/python3.10/site-packages/sklearn/linear_model/_logistic.py:1146\u001b[0m, in \u001b[0;36mLogisticRegression.fit\u001b[0;34m(self, X, y, sample_weight)\u001b[0m\n\u001b[1;32m   1136\u001b[0m     _dtype \u001b[39m=\u001b[39m [np\u001b[39m.\u001b[39mfloat64, np\u001b[39m.\u001b[39mfloat32]\n\u001b[1;32m   1138\u001b[0m X, y \u001b[39m=\u001b[39m \u001b[39mself\u001b[39m\u001b[39m.\u001b[39m_validate_data(\n\u001b[1;32m   1139\u001b[0m     X,\n\u001b[1;32m   1140\u001b[0m     y,\n\u001b[0;32m   (...)\u001b[0m\n\u001b[1;32m   1144\u001b[0m     accept_large_sparse\u001b[39m=\u001b[39msolver \u001b[39mnot\u001b[39;00m \u001b[39min\u001b[39;00m [\u001b[39m\"\u001b[39m\u001b[39mliblinear\u001b[39m\u001b[39m\"\u001b[39m, \u001b[39m\"\u001b[39m\u001b[39msag\u001b[39m\u001b[39m\"\u001b[39m, \u001b[39m\"\u001b[39m\u001b[39msaga\u001b[39m\u001b[39m\"\u001b[39m],\n\u001b[1;32m   1145\u001b[0m )\n\u001b[0;32m-> 1146\u001b[0m check_classification_targets(y)\n\u001b[1;32m   1147\u001b[0m \u001b[39mself\u001b[39m\u001b[39m.\u001b[39mclasses_ \u001b[39m=\u001b[39m np\u001b[39m.\u001b[39munique(y)\n\u001b[1;32m   1149\u001b[0m multi_class \u001b[39m=\u001b[39m _check_multi_class(\u001b[39mself\u001b[39m\u001b[39m.\u001b[39mmulti_class, solver, \u001b[39mlen\u001b[39m(\u001b[39mself\u001b[39m\u001b[39m.\u001b[39mclasses_))\n",
      "File \u001b[0;32m~/.local/lib/python3.10/site-packages/sklearn/utils/multiclass.py:200\u001b[0m, in \u001b[0;36mcheck_classification_targets\u001b[0;34m(y)\u001b[0m\n\u001b[1;32m    192\u001b[0m y_type \u001b[39m=\u001b[39m type_of_target(y, input_name\u001b[39m=\u001b[39m\u001b[39m\"\u001b[39m\u001b[39my\u001b[39m\u001b[39m\"\u001b[39m)\n\u001b[1;32m    193\u001b[0m \u001b[39mif\u001b[39;00m y_type \u001b[39mnot\u001b[39;00m \u001b[39min\u001b[39;00m [\n\u001b[1;32m    194\u001b[0m     \u001b[39m\"\u001b[39m\u001b[39mbinary\u001b[39m\u001b[39m\"\u001b[39m,\n\u001b[1;32m    195\u001b[0m     \u001b[39m\"\u001b[39m\u001b[39mmulticlass\u001b[39m\u001b[39m\"\u001b[39m,\n\u001b[0;32m   (...)\u001b[0m\n\u001b[1;32m    198\u001b[0m     \u001b[39m\"\u001b[39m\u001b[39mmultilabel-sequences\u001b[39m\u001b[39m\"\u001b[39m,\n\u001b[1;32m    199\u001b[0m ]:\n\u001b[0;32m--> 200\u001b[0m     \u001b[39mraise\u001b[39;00m \u001b[39mValueError\u001b[39;00m(\u001b[39m\"\u001b[39m\u001b[39mUnknown label type: \u001b[39m\u001b[39m%r\u001b[39;00m\u001b[39m\"\u001b[39m \u001b[39m%\u001b[39m y_type)\n",
      "\u001b[0;31mValueError\u001b[0m: Unknown label type: 'continuous'"
     ]
    }
   ],
   "source": [
    "\n",
    "pipe_dict = { 0: 'Logistic Regression', 1: 'Decision Tree', 2:'RandomForest'}\n",
    "\n",
    "# fit the pipleline \n",
    "for pipe in pipeline:\n",
    "    pipe.fit(X_train, y_train)"
   ]
  },
  {
   "cell_type": "code",
   "execution_count": null,
   "metadata": {},
   "outputs": [],
   "source": []
  }
 ],
 "metadata": {
  "kernelspec": {
   "display_name": "Python 3.8.15 ('venv': venv)",
   "language": "python",
   "name": "python3"
  },
  "language_info": {
   "codemirror_mode": {
    "name": "ipython",
    "version": 3
   },
   "file_extension": ".py",
   "mimetype": "text/x-python",
   "name": "python",
   "nbconvert_exporter": "python",
   "pygments_lexer": "ipython3",
   "version": "3.8.15"
  },
  "orig_nbformat": 4,
  "vscode": {
   "interpreter": {
    "hash": "2f919ea193ab7e4412be3af5c950ab10ef901b66cc1301c4ac422561787322da"
   }
  }
 },
 "nbformat": 4,
 "nbformat_minor": 2
}
