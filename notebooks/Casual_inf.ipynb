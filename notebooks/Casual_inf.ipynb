{
 "cells": [
  {
   "cell_type": "code",
   "execution_count": 1,
   "metadata": {},
   "outputs": [
    {
     "name": "stderr",
     "output_type": "stream",
     "text": [
      "/home/aman/Documents/week9/causal_inference_delivery/venv/lib/python3.8/site-packages/tqdm/auto.py:22: TqdmWarning: IProgress not found. Please update jupyter and ipywidgets. See https://ipywidgets.readthedocs.io/en/stable/user_install.html\n",
      "  from .autonotebook import tqdm as notebook_tqdm\n"
     ]
    }
   ],
   "source": [
    "# importing important modules\n",
    "from causalnex.structure import StructureModel\n",
    "from causalnex.structure.notears import from_pandas\n",
    "from causalnex.plots import plot_structure, NODE_STYLE, EDGE_STYLE\n",
    "from IPython.display import Image\n",
    "import pandas as pd\n",
    "import numpy as np"
   ]
  },
  {
   "cell_type": "code",
   "execution_count": 2,
   "metadata": {},
   "outputs": [],
   "source": [
    "import warnings\n",
    "# silence warnings\n",
    "warnings.filterwarnings(\"ignore\")"
   ]
  },
  {
   "cell_type": "markdown",
   "metadata": {},
   "source": [
    "## Structure"
   ]
  },
  {
   "cell_type": "code",
   "execution_count": 3,
   "metadata": {},
   "outputs": [],
   "source": [
    "# Creating an empty Structural Model\n",
    "sm = StructureModel()"
   ]
  },
  {
   "cell_type": "code",
   "execution_count": 4,
   "metadata": {},
   "outputs": [],
   "source": [
    "# model ready data\n",
    "data = pd.read_csv('../data/modelData.csv')"
   ]
  },
  {
   "cell_type": "code",
   "execution_count": 5,
   "metadata": {},
   "outputs": [
    {
     "data": {
      "text/html": [
       "<div>\n",
       "<style scoped>\n",
       "    .dataframe tbody tr th:only-of-type {\n",
       "        vertical-align: middle;\n",
       "    }\n",
       "\n",
       "    .dataframe tbody tr th {\n",
       "        vertical-align: top;\n",
       "    }\n",
       "\n",
       "    .dataframe thead th {\n",
       "        text-align: right;\n",
       "    }\n",
       "</style>\n",
       "<table border=\"1\" class=\"dataframe\">\n",
       "  <thead>\n",
       "    <tr style=\"text-align: right;\">\n",
       "      <th></th>\n",
       "      <th>Trip ID</th>\n",
       "      <th>Trip Origin</th>\n",
       "      <th>Trip Destination</th>\n",
       "      <th>Trip Start Time</th>\n",
       "      <th>Trip End Time</th>\n",
       "      <th>driver_id</th>\n",
       "      <th>driver_action</th>\n",
       "      <th>lat</th>\n",
       "      <th>lng</th>\n",
       "      <th>completion_minutes</th>\n",
       "      <th>status</th>\n",
       "      <th>Distance</th>\n",
       "    </tr>\n",
       "  </thead>\n",
       "  <tbody>\n",
       "    <tr>\n",
       "      <th>0</th>\n",
       "      <td>-1.951356</td>\n",
       "      <td>1.162884</td>\n",
       "      <td>-1.127166</td>\n",
       "      <td>-1.972742</td>\n",
       "      <td>-1.99664</td>\n",
       "      <td>0.431229</td>\n",
       "      <td>8.197324</td>\n",
       "      <td>-0.000862</td>\n",
       "      <td>-0.000862</td>\n",
       "      <td>-0.432759</td>\n",
       "      <td>15.554280</td>\n",
       "      <td>-1.052894</td>\n",
       "    </tr>\n",
       "    <tr>\n",
       "      <th>1</th>\n",
       "      <td>-1.951356</td>\n",
       "      <td>1.162884</td>\n",
       "      <td>-1.127166</td>\n",
       "      <td>-1.972742</td>\n",
       "      <td>-1.99664</td>\n",
       "      <td>0.420804</td>\n",
       "      <td>-0.121991</td>\n",
       "      <td>-0.000862</td>\n",
       "      <td>-0.000862</td>\n",
       "      <td>-0.432759</td>\n",
       "      <td>-0.064291</td>\n",
       "      <td>-0.246701</td>\n",
       "    </tr>\n",
       "    <tr>\n",
       "      <th>2</th>\n",
       "      <td>-1.951356</td>\n",
       "      <td>1.162884</td>\n",
       "      <td>-1.127166</td>\n",
       "      <td>-1.972742</td>\n",
       "      <td>-1.99664</td>\n",
       "      <td>0.431316</td>\n",
       "      <td>-0.121991</td>\n",
       "      <td>-0.000862</td>\n",
       "      <td>-0.000862</td>\n",
       "      <td>-0.432759</td>\n",
       "      <td>-0.064291</td>\n",
       "      <td>-0.966348</td>\n",
       "    </tr>\n",
       "    <tr>\n",
       "      <th>3</th>\n",
       "      <td>-1.951356</td>\n",
       "      <td>1.162884</td>\n",
       "      <td>-1.127166</td>\n",
       "      <td>-1.972742</td>\n",
       "      <td>-1.99664</td>\n",
       "      <td>0.418676</td>\n",
       "      <td>-0.121991</td>\n",
       "      <td>-0.000862</td>\n",
       "      <td>-0.000862</td>\n",
       "      <td>-0.432759</td>\n",
       "      <td>-0.064291</td>\n",
       "      <td>-1.054776</td>\n",
       "    </tr>\n",
       "    <tr>\n",
       "      <th>4</th>\n",
       "      <td>-1.951356</td>\n",
       "      <td>1.162884</td>\n",
       "      <td>-1.127166</td>\n",
       "      <td>-1.972742</td>\n",
       "      <td>-1.99664</td>\n",
       "      <td>-2.703749</td>\n",
       "      <td>-0.121991</td>\n",
       "      <td>-0.000862</td>\n",
       "      <td>-0.000862</td>\n",
       "      <td>-0.432759</td>\n",
       "      <td>-0.064291</td>\n",
       "      <td>-0.180851</td>\n",
       "    </tr>\n",
       "  </tbody>\n",
       "</table>\n",
       "</div>"
      ],
      "text/plain": [
       "    Trip ID  Trip Origin  Trip Destination  Trip Start Time  Trip End Time  \\\n",
       "0 -1.951356     1.162884         -1.127166        -1.972742       -1.99664   \n",
       "1 -1.951356     1.162884         -1.127166        -1.972742       -1.99664   \n",
       "2 -1.951356     1.162884         -1.127166        -1.972742       -1.99664   \n",
       "3 -1.951356     1.162884         -1.127166        -1.972742       -1.99664   \n",
       "4 -1.951356     1.162884         -1.127166        -1.972742       -1.99664   \n",
       "\n",
       "   driver_id  driver_action       lat       lng  completion_minutes  \\\n",
       "0   0.431229       8.197324 -0.000862 -0.000862           -0.432759   \n",
       "1   0.420804      -0.121991 -0.000862 -0.000862           -0.432759   \n",
       "2   0.431316      -0.121991 -0.000862 -0.000862           -0.432759   \n",
       "3   0.418676      -0.121991 -0.000862 -0.000862           -0.432759   \n",
       "4  -2.703749      -0.121991 -0.000862 -0.000862           -0.432759   \n",
       "\n",
       "      status  Distance  \n",
       "0  15.554280 -1.052894  \n",
       "1  -0.064291 -0.246701  \n",
       "2  -0.064291 -0.966348  \n",
       "3  -0.064291 -1.054776  \n",
       "4  -0.064291 -0.180851  "
      ]
     },
     "execution_count": 5,
     "metadata": {},
     "output_type": "execute_result"
    }
   ],
   "source": [
    "data.head()"
   ]
  },
  {
   "cell_type": "code",
   "execution_count": 6,
   "metadata": {},
   "outputs": [
    {
     "data": {
      "text/plain": [
       "OutEdgeView([])"
      ]
     },
     "execution_count": 6,
     "metadata": {},
     "output_type": "execute_result"
    }
   ],
   "source": [
    "sm.edges"
   ]
  },
  {
   "cell_type": "markdown",
   "metadata": {},
   "source": [
    "## Visualize the learned SM"
   ]
  },
  {
   "cell_type": "code",
   "execution_count": 17,
   "metadata": {},
   "outputs": [],
   "source": [
    "# We can now apply the NOTEARS algorithm to learn the structure.\n",
    "sm_data = from_pandas(data.iloc[:, :], w_threshold=0.8, tabu_parent_nodes=['status'])"
   ]
  },
  {
   "cell_type": "code",
   "execution_count": null,
   "metadata": {},
   "outputs": [],
   "source": [
    "# Plotting the Structure Model\n",
    "node_attributes = {\n",
    "    \"diagnosis\": { \n",
    "        \"shape\": \"star\",\n",
    "        \"style\": \"filled\",\n",
    "        \"width\": 0.6,\n",
    "        \"penwidth\": \"1\", \n",
    "        \"color\": \"#4a90e2d9\",\n",
    "        \"orientation\": 25, \n",
    "    },\n",
    "    \"fontsize\": 0.1\n",
    "}\n",
    "\n",
    "graph_attributes = {\n",
    "    \"scale\": \"1\",\n",
    "    \"size\": 5,\n",
    "    \"label\": \"Logistic opt. Causal model\",\n",
    "    \"fontcolor\": \"#FFFFFFD9\",\n",
    "    \"fontname\": \"Helvetica\",\n",
    "    \"fontsize\": 25, # font size of the graph title\n",
    "    \"dpi\": 200,  # resolution\n",
    "    \"labeljust\": \"l\",  # left\n",
    "    \"labelloc\": \"t\",  # top\n",
    "}"
   ]
  }
 ],
 "metadata": {
  "kernelspec": {
   "display_name": "Python 3.8.15 ('venv': venv)",
   "language": "python",
   "name": "python3"
  },
  "language_info": {
   "codemirror_mode": {
    "name": "ipython",
    "version": 3
   },
   "file_extension": ".py",
   "mimetype": "text/x-python",
   "name": "python",
   "nbconvert_exporter": "python",
   "pygments_lexer": "ipython3",
   "version": "3.8.15"
  },
  "orig_nbformat": 4,
  "vscode": {
   "interpreter": {
    "hash": "2f919ea193ab7e4412be3af5c950ab10ef901b66cc1301c4ac422561787322da"
   }
  }
 },
 "nbformat": 4,
 "nbformat_minor": 2
}
